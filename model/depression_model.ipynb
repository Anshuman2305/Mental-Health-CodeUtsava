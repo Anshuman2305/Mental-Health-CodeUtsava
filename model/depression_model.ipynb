{
  "nbformat": 4,
  "nbformat_minor": 0,
  "metadata": {
    "colab": {
      "name": "depression_model.ipynb",
      "provenance": [],
      "collapsed_sections": []
    },
    "kernelspec": {
      "name": "python3",
      "display_name": "Python 3"
    },
    "language_info": {
      "name": "python"
    }
  },
  "cells": [
    {
      "cell_type": "code",
      "execution_count": null,
      "metadata": {
        "id": "agez6SFtTfXH"
      },
      "outputs": [],
      "source": [
        "#Import scikit-learn dataset library\n",
        "from sklearn import datasets\n",
        "from google.colab import files\n",
        "import pandas as pd\n",
        "\n"
      ]
    },
    {
      "cell_type": "code",
      "source": [
        "df=pd.read_csv(\"depressionDataset.csv\")"
      ],
      "metadata": {
        "id": "ChqNGdyVwmft"
      },
      "execution_count": null,
      "outputs": []
    },
    {
      "cell_type": "code",
      "source": [
        "print(df)"
      ],
      "metadata": {
        "colab": {
          "base_uri": "https://localhost:8080/"
        },
        "id": "N37u2oSlhwZ-",
        "outputId": "5c5a31ff-3ea9-4975-b06d-ab728563cc7a"
      },
      "execution_count": null,
      "outputs": [
        {
          "output_type": "stream",
          "name": "stdout",
          "text": [
            "        id   q1   q2  ...                 time  period.name           start.time\n",
            "0      1.0  3.0  2.0  ...  2017-01-22 20:11:59      evening  2017-01-09 07:22:37\n",
            "1      2.0  0.0  3.0  ...  2017-02-08 22:53:06      evening  2017-01-09 07:22:37\n",
            "2      3.0  0.0  0.0  ...  2017-02-08 08:00:46      morning  2017-01-09 07:22:37\n",
            "3      4.0  2.0  1.0  ...  2017-01-22 14:01:25       midday  2017-01-09 07:22:37\n",
            "4      5.0  1.0  3.0  ...  2017-01-21 15:37:24       midday  2017-01-09 07:22:37\n",
            "...    ...  ...  ...  ...                  ...          ...                  ...\n",
            "16145  NaN  NaN  NaN  ...  2017-02-04 10:44:56      morning  2017-01-07 18:55:29\n",
            "16146  NaN  NaN  NaN  ...  2017-01-29 22:00:47      evening  2017-01-07 18:55:29\n",
            "16147  NaN  NaN  NaN  ...  2017-01-18 18:30:06      evening  2017-01-07 18:55:29\n",
            "16148  NaN  NaN  NaN  ...  2017-01-22 10:36:42      morning  2017-01-07 18:55:29\n",
            "16149  NaN  NaN  NaN  ...  2017-01-08 15:01:18       midday  2017-01-07 18:55:29\n",
            "\n",
            "[16150 rows x 16 columns]\n"
          ]
        }
      ]
    },
    {
      "cell_type": "code",
      "source": [
        "df.drop(['time','period.name','start.time','score'],axis='columns',inplace=True)"
      ],
      "metadata": {
        "id": "It1xvRfgwasv"
      },
      "execution_count": null,
      "outputs": []
    },
    {
      "cell_type": "code",
      "source": [
        "df.head"
      ],
      "metadata": {
        "colab": {
          "base_uri": "https://localhost:8080/"
        },
        "id": "8MTaKD3CxuTC",
        "outputId": "c4d9a3c4-48aa-4afa-8e2f-dcf788e8fda6"
      },
      "execution_count": null,
      "outputs": [
        {
          "output_type": "execute_result",
          "data": {
            "text/plain": [
              "<bound method NDFrame.head of         id   q1   q2   q3   q4   q5   q6   q7   q8   q9  q10  class\n",
              "0      1.0  3.0  2.0  2.0  2.0  3.0  0.0  0.0  0.0  0.0  3.0    3.0\n",
              "1      2.0  0.0  3.0  0.0  0.0  0.0  3.0  0.0  0.0  0.0  0.0    1.0\n",
              "2      3.0  0.0  0.0  0.0  0.0  0.0  0.0  0.0  0.0  0.0  0.0    0.0\n",
              "3      4.0  2.0  1.0  1.0  2.0  0.0  0.0  2.0  3.0  0.0  3.0    2.0\n",
              "4      5.0  1.0  3.0  1.0  1.0  2.0  1.0  2.0  3.0  0.0  1.0    3.0\n",
              "...    ...  ...  ...  ...  ...  ...  ...  ...  ...  ...  ...    ...\n",
              "16145  NaN  NaN  NaN  NaN  NaN  NaN  NaN  NaN  NaN  NaN  NaN    NaN\n",
              "16146  NaN  NaN  NaN  NaN  NaN  NaN  NaN  NaN  NaN  NaN  NaN    NaN\n",
              "16147  NaN  NaN  NaN  NaN  NaN  NaN  NaN  NaN  NaN  NaN  NaN    NaN\n",
              "16148  NaN  NaN  NaN  NaN  NaN  NaN  NaN  NaN  NaN  NaN  NaN    NaN\n",
              "16149  NaN  NaN  NaN  NaN  NaN  NaN  NaN  NaN  NaN  NaN  NaN    NaN\n",
              "\n",
              "[16150 rows x 12 columns]>"
            ]
          },
          "metadata": {},
          "execution_count": 123
        }
      ]
    },
    {
      "cell_type": "code",
      "source": [
        "df.dropna(inplace = True)"
      ],
      "metadata": {
        "id": "-8nsrA331wg7"
      },
      "execution_count": null,
      "outputs": []
    },
    {
      "cell_type": "code",
      "source": [
        "for i in df.columns:\n",
        " df[i].fillna(df[i].mode()[0], inplace=True)\n",
        "print(df)"
      ],
      "metadata": {
        "colab": {
          "base_uri": "https://localhost:8080/"
        },
        "id": "djRirwXP5SWY",
        "outputId": "54632718-605f-4f45-97ab-99a162675637"
      },
      "execution_count": null,
      "outputs": [
        {
          "output_type": "stream",
          "name": "stdout",
          "text": [
            "            id   q1   q2   q3   q4   q5   q6   q7   q8   q9  q10  class\n",
            "0          1.0  3.0  2.0  2.0  2.0  3.0  0.0  0.0  0.0  0.0  3.0    3.0\n",
            "1          2.0  0.0  3.0  0.0  0.0  0.0  3.0  0.0  0.0  0.0  0.0    1.0\n",
            "2          3.0  0.0  0.0  0.0  0.0  0.0  0.0  0.0  0.0  0.0  0.0    0.0\n",
            "3          4.0  2.0  1.0  1.0  2.0  0.0  0.0  2.0  3.0  0.0  3.0    2.0\n",
            "4          5.0  1.0  3.0  1.0  1.0  2.0  1.0  2.0  3.0  0.0  1.0    3.0\n",
            "...        ...  ...  ...  ...  ...  ...  ...  ...  ...  ...  ...    ...\n",
            "15918  15919.0  2.0  0.0  3.0  1.0  0.0  3.0  1.0  1.0  2.0  0.0    2.0\n",
            "15919  15920.0  2.0  0.0  0.0  3.0  0.0  3.0  2.0  3.0  3.0  3.0    3.0\n",
            "15920  15921.0  3.0  3.0  3.0  3.0  2.0  0.0  0.0  2.0  1.0  0.0    3.0\n",
            "15921  15922.0  2.0  3.0  1.0  3.0  2.0  0.0  3.0  3.0  2.0  0.0    3.0\n",
            "15922  15923.0  0.0  0.0  2.0  3.0  0.0  3.0  3.0  0.0  2.0  3.0    3.0\n",
            "\n",
            "[15923 rows x 12 columns]\n"
          ]
        }
      ]
    },
    {
      "cell_type": "code",
      "source": [
        "from sklearn.model_selection import train_test_split\n"
      ],
      "metadata": {
        "id": "vwteurGzzaZe"
      },
      "execution_count": null,
      "outputs": []
    },
    {
      "cell_type": "code",
      "source": [
        "X=df[['q1', 'q2', 'q3', 'q4','q5', 'q6', 'q7', 'q8','q9','q10']]  # Features\n",
        "y=df['class']"
      ],
      "metadata": {
        "id": "40fsB1Mqzq1z"
      },
      "execution_count": null,
      "outputs": []
    },
    {
      "cell_type": "code",
      "source": [
        "X_train, X_test, y_train, y_test = train_test_split(X, y, test_size=0.3)"
      ],
      "metadata": {
        "id": "6Z4ZMA0_7p-U"
      },
      "execution_count": null,
      "outputs": []
    },
    {
      "cell_type": "code",
      "source": [
        "from sklearn.ensemble import RandomForestClassifier\n"
      ],
      "metadata": {
        "id": "jooPjimw73FC"
      },
      "execution_count": null,
      "outputs": []
    },
    {
      "cell_type": "code",
      "source": [
        "#Create a Gaussian Classifier\n",
        "clf=RandomForestClassifier(n_estimators=100)"
      ],
      "metadata": {
        "id": "yHXLa9yg76kc"
      },
      "execution_count": null,
      "outputs": []
    },
    {
      "cell_type": "markdown",
      "source": [
        ""
      ],
      "metadata": {
        "id": "sI5geeHM89Vp"
      }
    },
    {
      "cell_type": "code",
      "source": [
        "#Train the model using the training sets y_pred=clf.predict(X_test)\n",
        "clf.fit(X_train,y_train)\n",
        "\n",
        "y_pred=clf.predict(X_test)"
      ],
      "metadata": {
        "id": "6mi7dQ7-8Ci7"
      },
      "execution_count": null,
      "outputs": []
    },
    {
      "cell_type": "code",
      "source": [
        "#Import scikit-learn metrics module for accuracy calculation\n",
        "from sklearn import metrics\n",
        "# Model Accuracy, how often is the classifier correct?\n",
        "print(\"Accuracy:\",metrics.accuracy_score(y_test, y_pred))"
      ],
      "metadata": {
        "colab": {
          "base_uri": "https://localhost:8080/"
        },
        "id": "PKY3JGGM8EN_",
        "outputId": "4aae182f-634c-49ef-b2b9-a2cdb20ef053"
      },
      "execution_count": null,
      "outputs": [
        {
          "output_type": "stream",
          "name": "stdout",
          "text": [
            "Accuracy: 0.8944944525853046\n"
          ]
        }
      ]
    },
    {
      "cell_type": "code",
      "source": [
        "clf.predict([[0,3,0,0,0,3,0,0,0,0]])"
      ],
      "metadata": {
        "colab": {
          "base_uri": "https://localhost:8080/"
        },
        "id": "ejvRw8zA8WAO",
        "outputId": "a8620af7-6656-4720-9b63-40aa34ddbe73"
      },
      "execution_count": null,
      "outputs": [
        {
          "output_type": "stream",
          "name": "stderr",
          "text": [
            "/usr/local/lib/python3.7/dist-packages/sklearn/base.py:451: UserWarning: X does not have valid feature names, but RandomForestClassifier was fitted with feature names\n",
            "  \"X does not have valid feature names, but\"\n"
          ]
        },
        {
          "output_type": "execute_result",
          "data": {
            "text/plain": [
              "array([1.])"
            ]
          },
          "metadata": {},
          "execution_count": 133
        }
      ]
    },
    {
      "cell_type": "code",
      "source": [
        "clf.predict([[2,0,0,3,0,3,2,3,3,3]])"
      ],
      "metadata": {
        "colab": {
          "base_uri": "https://localhost:8080/"
        },
        "id": "iBd6ZLvY8ym8",
        "outputId": "1d21a908-5053-40be-ff22-f1d6de3d11a0"
      },
      "execution_count": null,
      "outputs": [
        {
          "output_type": "stream",
          "name": "stderr",
          "text": [
            "/usr/local/lib/python3.7/dist-packages/sklearn/base.py:451: UserWarning: X does not have valid feature names, but RandomForestClassifier was fitted with feature names\n",
            "  \"X does not have valid feature names, but\"\n"
          ]
        },
        {
          "output_type": "execute_result",
          "data": {
            "text/plain": [
              "array([3.])"
            ]
          },
          "metadata": {},
          "execution_count": 134
        }
      ]
    },
    {
      "cell_type": "code",
      "source": [
        "import pickle"
      ],
      "metadata": {
        "id": "l00nFxzkOD-H"
      },
      "execution_count": null,
      "outputs": []
    },
    {
      "cell_type": "code",
      "source": [
        "with open('model_pkl.pkl', 'wb') as files: pickle.dump(clf,files)"
      ],
      "metadata": {
        "id": "Rh0cmCj9OGhn"
      },
      "execution_count": null,
      "outputs": []
    }
  ]
}